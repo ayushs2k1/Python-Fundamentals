{
 "cells": [
  {
   "cell_type": "markdown",
   "metadata": {},
   "source": [
    "# Basic Operations"
   ]
  },
  {
   "cell_type": "code",
   "execution_count": 61,
   "metadata": {},
   "outputs": [
    {
     "name": "stdout",
     "output_type": "stream",
     "text": [
      "3\n",
      "abcdef\n",
      "spamSPAM!\n",
      "Yay!!Yay!!Yay!!Yay!!\n",
      "42spamSPAM! 42spamSPAM!\n",
      "AYUSHspamSPAM! 'AYUSH'spamSPAM!\n",
      "44 44.0\n",
      "13 0b1101\n",
      "115 s\n"
     ]
    }
   ],
   "source": [
    " #In-Built length function which finds the length of the string\n",
    "print(len(\"abc\"))\n",
    "\n",
    "#Concatenation of strings\n",
    "print('abc'+'def')  \n",
    "s='spam'\n",
    "s=s+'SPAM!'\n",
    "print(s)\n",
    "\n",
    "#Simpler way of repetition\n",
    "print('Yay!!'*4)\n",
    "\n",
    "#Type Conversions (all are built-in functions)\n",
    "print(str(42)+s,repr(42)+s)   \n",
    "print(str(\"AYUSH\")+s,repr(\"AYUSH\")+s)\n",
    "print(int(\"42\")+2,float(\"42\")+2)\n",
    "print(int('1101',2),bin(13))          \n",
    "print(ord('s'),chr(115))"
   ]
  },
  {
   "cell_type": "markdown",
   "metadata": {},
   "source": [
    "##### Difference between str() and repr()\n",
    "- str() is used for creating output for end user while repr() is mainly used for debugging and development. repr’s goal is to be unambiguous and str’s is to be readable. For example, if we suspect a float has a small rounding error, repr will show us while str may not.\n",
    "- repr() returns the object as a string of code that can be re-run to recreate the object.\n",
    "\n",
    "\n",
    "\n",
    "**int(i, base)** - Converts a string type data to integer type data. The base specifies the base in which the string is.\n",
    "\n",
    "**float()** - Converts any data type into a floating point number.\n",
    "\n",
    "**bin()** - Converts an integer value to binary value.\n",
    "\n",
    "**ord()**  - Converts a single character to its corresponding ASCII byte value.\n",
    "\n",
    "**chr()** - Converts an integer and converting it to the corresponding character."
   ]
  },
  {
   "cell_type": "code",
   "execution_count": 4,
   "metadata": {},
   "outputs": [
    {
     "name": "stdout",
     "output_type": "stream",
     "text": [
      "A y u s h \n",
      "\n",
      "True\n",
      "True\n",
      "False\n"
     ]
    }
   ],
   "source": [
    "string=\"Ayush\"\n",
    "for c in string:\n",
    "    print(c,end=\" \")\n",
    "print(\"\\n\")\n",
    "\n",
    "print(\"y\" in string)\n",
    "print(\"yus\" in string)\n",
    "print(\"yusha\" in string)"
   ]
  },
  {
   "cell_type": "markdown",
   "metadata": {},
   "source": [
    "# Methods"
   ]
  },
  {
   "cell_type": "markdown",
   "metadata": {},
   "source": [
    "In this section we'll look at the basic, most commonly used methods."
   ]
  },
  {
   "cell_type": "code",
   "execution_count": 38,
   "metadata": {},
   "outputs": [
    {
     "name": "stdout",
     "output_type": "stream",
     "text": [
      "dogs and hen hen hen and dogs and hen and cats cats\n",
      "\n",
      "\n",
      "Dogs and cats cats cats and dogs and cats and cats cats\n",
      "\n",
      "\n",
      "9\n",
      "\n",
      "\n",
      "False\n",
      "True\n",
      "DOGS AND CATS CATS CATS AND DOGS AND CATS AND CATS CATS\n",
      "dogs and cats cats cats and dogs and cats and cats cats\n",
      "True\n",
      "True\n",
      "\n",
      "\n",
      "dogsfightandfightcat\n",
      "\n",
      "\n",
      "['dogs', 'and', 'cats', 'cats', 'cats', 'and', 'dogs', 'and', 'cats', 'and', 'cats', 'cats']\n",
      "\n",
      "\n"
     ]
    }
   ],
   "source": [
    "s=\"dogs and cats cats cats and dogs and cats and cats cats\"\n",
    "print(s.replace('cats','hen',4))\n",
    "print(\"\\n\")\n",
    "\n",
    "print(s.capitalize())\n",
    "print(\"\\n\")\n",
    "\n",
    "print(s.find(\"cats\"))\n",
    "print(\"\\n\")\n",
    "\n",
    "print(s.isupper())\n",
    "print(s.islower())\n",
    "print(s.upper())\n",
    "print(s.lower())\n",
    "print(s.startswith('dog'))\n",
    "print(s.endswith('cats'))\n",
    "print(\"\\n\")\n",
    "\n",
    "print('fight'.join(['dogs','and','cat']))\n",
    "print(\"\\n\")\n",
    "\n",
    "print(s.split())\n",
    "print(\"\\n\")"
   ]
  },
  {
   "cell_type": "markdown",
   "metadata": {},
   "source": [
    "##### Note \n",
    "\n",
    "**replace(old string,new string,count)**- It replaces all the occurrences of an old substring with a new substring. Count specifies the number of times we want to replace the substring(it is optional).\n",
    "\n",
    "**capitalize()** - It capitalizes the first letter of the string.\n",
    "\n",
    "**find(string)** - It finds the index of the first occurence of the string.\n",
    "\n",
    "**isupper()** - Returns True if all the characters in the given string are in upper case else returns False\n",
    "\n",
    "**islower()** - Returns True if all the characters in the given string are in lower case else returns False\n",
    "\n",
    "**upper()** - Changes all the characters in the string from lower case to upper case\n",
    "\n",
    "**lower()** - Changes all the characters in the string from upper case to lower case\n",
    "\n",
    "**startswith()** - Returns True if the given string starts with the string specified within this method else returns False. \n",
    "\n",
    "**endswith()** - Returns True if the given string ends with the string specified within this method else returns False.\n",
    "\n",
    "**join()** - Returns a string in which the elements of the given string is joined by str separator.\n",
    "\n",
    "**split()** - This method returns a list of strings after breaking the given string by the specified separator."
   ]
  },
  {
   "cell_type": "markdown",
   "metadata": {},
   "source": [
    "# Indexing and Slicing"
   ]
  },
  {
   "cell_type": "code",
   "execution_count": 38,
   "metadata": {},
   "outputs": [
    {
     "name": "stdout",
     "output_type": "stream",
     "text": [
      "s a\n",
      "pa pam spa spa spam\n"
     ]
    }
   ],
   "source": [
    "s=\"spam\"\n",
    "print(s[0],s[-2])\n",
    "print(s[1:3],s[1:],s[:-1],s[:3],s[:])"
   ]
  },
  {
   "cell_type": "markdown",
   "metadata": {},
   "source": [
    "##### Note\n",
    "- The first item is at offset 0. S[0] fetches the first item.\n",
    "- Negative indexes mean to count backward from the end to right. S[-2] fetches the second item from the end (or right).\n",
    "- S[i:j] fetches item from position i upto but not including position j.\n",
    "- S[i:] fetches item from position i upto the last element of the string.\n",
    "- S[:j] fetches item from the 0th position upto but not including position j.\n",
    "- S[:-1] fetches item from 0th position upto but not including the last item.\n",
    "- S[:] fetches all the items of the string"
   ]
  },
  {
   "cell_type": "markdown",
   "metadata": {},
   "source": [
    "We can also slice using the syntax given below"
   ]
  },
  {
   "cell_type": "code",
   "execution_count": 39,
   "metadata": {},
   "outputs": [
    {
     "name": "stdout",
     "output_type": "stream",
     "text": [
      "pa pam spa spa spam\n"
     ]
    }
   ],
   "source": [
    "print(s[slice(1,3)],s[slice(1,None)],s[slice(None,-1)],s[slice(None,3)],s[slice(None,None)])"
   ]
  },
  {
   "cell_type": "code",
   "execution_count": 27,
   "metadata": {},
   "outputs": [
    {
     "name": "stdout",
     "output_type": "stream",
     "text": [
      "bdfhj acegikmo\n"
     ]
    }
   ],
   "source": [
    "s=\"abcdefghijklmnop\"\n",
    "print(s[1:10:2],s[::2])             #skipping items"
   ]
  },
  {
   "cell_type": "markdown",
   "metadata": {},
   "source": [
    "##### Note\n",
    "- S[i:j:k] means extraction of all items in S from the position i through j-1, by skipping k values everytime. By default the value of k is set to 1 "
   ]
  },
  {
   "cell_type": "code",
   "execution_count": 30,
   "metadata": {},
   "outputs": [
    {
     "name": "stdout",
     "output_type": "stream",
     "text": [
      "hsuya\n",
      "kjihgfedc kigec\n"
     ]
    }
   ],
   "source": [
    "s=\"ayush\"\n",
    "print(s[::-1])                      #reversing items\n",
    "\n",
    "s=\"abcdefghijklmnop\"\n",
    "print(s[10:1:-1],s[10:1:-2])"
   ]
  },
  {
   "cell_type": "markdown",
   "metadata": {},
   "source": [
    "##### Note\n",
    "- S[::-1] is used to reverse the string. The first bound default to 0 and the second bound is default to the length of the string.\n",
    "- S[i:j:-k] is used to fetch string from j+1 to i in reverse order,by skipping k values everytime."
   ]
  },
  {
   "cell_type": "markdown",
   "metadata": {},
   "source": [
    "# String Formatting"
   ]
  },
  {
   "cell_type": "code",
   "execution_count": 62,
   "metadata": {},
   "outputs": [
    {
     "name": "stdout",
     "output_type": "stream",
     "text": [
      "My name is Ayush Sharma and I'm doing my Btech from VIT. I am 19 years old. My current cgpa is 8.970000\n",
      "My current cgpa is 8.970\n",
      "My current cgpa is 08.97\n",
      "My current cgpa is 8.97\n",
      "My current cgpa is +009.0\n",
      "My current cgpa is 9.0\n",
      "My current cgpa is 9\n",
      "My grade in Python is A\n"
     ]
    }
   ],
   "source": [
    "print(\"My name is %s and I'm doing my %s from %s. I am %d years old. My current cgpa is %f\" %('Ayush Sharma','Btech','VIT',19,8.97))\n",
    "print(\"My current cgpa is %.3f\" %(8.97))\n",
    "print(\"My current cgpa is %05.2f\" %(8.97))\n",
    "print(\"My current cgpa is %.2f\" %(8.97))\n",
    "print(\"My current cgpa is %+06.1f\" %(8.97))\n",
    "print(\"My current cgpa is %.1f\" %(8.97))\n",
    "print(\"My current cgpa is %.f\" %(8.97))\n",
    "print(\"My grade in Python is %c\" %('A'))"
   ]
  },
  {
   "cell_type": "markdown",
   "metadata": {},
   "source": [
    "##### Note\n",
    "\n",
    "Some basic String Formatting type codes are:\n",
    "\n",
    "**s** - Used for String substitution.\n",
    "\n",
    "**d** - Used for Integer value substitution.\n",
    "\n",
    "**f** - Used for Floating Point decimal value substitution.\n",
    "  - For floating-point numbers, you can achieve a variety of additional formatting effects by specifying left justification, zero padding, numeric signs, total field width, and digits after the decimal point.\n",
    "\n",
    "**c** - Used for character substitution.\n",
    "\n"
   ]
  },
  {
   "cell_type": "markdown",
   "metadata": {},
   "source": [
    "Now we will see **Dictionary-Based Formatting**"
   ]
  },
  {
   "cell_type": "code",
   "execution_count": 69,
   "metadata": {},
   "outputs": [
    {
     "name": "stdout",
     "output_type": "stream",
     "text": [
      "Hello! My name is Ayush Sharma and I'm 19 years old\n"
     ]
    }
   ],
   "source": [
    "s=\"Hello! My name is %(name)s and I'm %(age)d years old\"%{'name':'Ayush Sharma','age':19}\n",
    "print(s)"
   ]
  },
  {
   "cell_type": "code",
   "execution_count": 67,
   "metadata": {},
   "outputs": [
    {
     "name": "stdout",
     "output_type": "stream",
     "text": [
      "Hello! My name is Ayush Sharma and I'm 19 years old\n"
     ]
    }
   ],
   "source": [
    "s=\"Hello! My name is %(name)s and I'm %(age)d years old\"\n",
    "values={'name':'Ayush Sharma','age':19}\n",
    "print(s%values)"
   ]
  },
  {
   "cell_type": "markdown",
   "metadata": {},
   "source": [
    "And now we will see **Formatting Method**"
   ]
  },
  {
   "cell_type": "code",
   "execution_count": 74,
   "metadata": {},
   "outputs": [
    {
     "name": "stdout",
     "output_type": "stream",
     "text": [
      "dogs, cats and hens\n",
      "dogs, cats and hens\n",
      "dogs, cats and hens\n",
      "dogs, cats and hens\n"
     ]
    }
   ],
   "source": [
    "s = '{0}, {1} and {2}'                                    # By position\n",
    "print(s.format('dogs', 'cats', 'hens'))\n",
    "\n",
    "s = '{brown}, {black} and {white}'                        # By keyword\n",
    "print(s.format(brown='dogs', black='cats', white='hens'))\n",
    "\n",
    "s = '{brown}, {0} and {white}'                            # By both\n",
    "print(s.format('cats', brown='dogs', white='hens'))\n",
    "\n",
    "s = '{}, {} and {}'                                       # By relative position\n",
    "print(s.format('dogs', 'cats', 'hens'))"
   ]
  },
  {
   "cell_type": "markdown",
   "metadata": {},
   "source": []
  }
 ],
 "metadata": {
  "kernelspec": {
   "display_name": "Python 3",
   "language": "python",
   "name": "python3"
  },
  "language_info": {
   "codemirror_mode": {
    "name": "ipython",
    "version": 3
   },
   "file_extension": ".py",
   "mimetype": "text/x-python",
   "name": "python",
   "nbconvert_exporter": "python",
   "pygments_lexer": "ipython3",
   "version": "3.7.4"
  }
 },
 "nbformat": 4,
 "nbformat_minor": 2
}

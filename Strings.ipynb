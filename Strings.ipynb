{
 "cells": [
  {
   "cell_type": "markdown",
   "metadata": {},
   "source": [
    "# Basic Operations"
   ]
  },
  {
   "cell_type": "code",
   "execution_count": 61,
   "metadata": {},
   "outputs": [
    {
     "name": "stdout",
     "output_type": "stream",
     "text": [
      "3\n",
      "abcdef\n",
      "spamSPAM!\n",
      "Yay!!Yay!!Yay!!Yay!!\n",
      "42spamSPAM! 42spamSPAM!\n",
      "AYUSHspamSPAM! 'AYUSH'spamSPAM!\n",
      "44 44.0\n",
      "13 0b1101\n",
      "115 s\n"
     ]
    }
   ],
   "source": [
    " #In-Built length function which finds the length of the string\n",
    "print(len(\"abc\"))\n",
    "\n",
    "#Concatenation of strings\n",
    "print('abc'+'def')  \n",
    "s='spam'\n",
    "s=s+'SPAM!'\n",
    "print(s)\n",
    "\n",
    "#Simpler way of repetition\n",
    "print('Yay!!'*4)\n",
    "\n",
    "#Type Conversions (all are built-in functions)\n",
    "print(str(42)+s,repr(42)+s)   \n",
    "print(str(\"AYUSH\")+s,repr(\"AYUSH\")+s)\n",
    "print(int(\"42\")+2,float(\"42\")+2)\n",
    "print(int('1101',2),bin(13))          \n",
    "print(ord('s'),chr(115))"
   ]
  },
  {
   "cell_type": "markdown",
   "metadata": {},
   "source": [
    "##### Difference between str() and repr()\n",
    "- str() is used for creating output for end user while repr() is mainly used for debugging and development. repr’s goal is to be unambiguous and str’s is to be readable. For example, if we suspect a float has a small rounding error, repr will show us while str may not.\n",
    "- repr() returns the object as a string of code that can be re-run to recreate the object.\n",
    "\n",
    "\n",
    "\n",
    "**int(i, base)** - Converts a string type data to integer type data. The base specifies the base in which the string is.\n",
    "\n",
    "**float()** - Converts any data type into a floating point number.\n",
    "\n",
    "**bin()** - Converts an integer value to binary value.\n",
    "\n",
    "**ord()**  - Converts a single character to its corresponding ASCII byte value.\n",
    "\n",
    "**chr()** - Converts an integer and converting it to the corresponding character."
   ]
  },
  {
   "cell_type": "code",
   "execution_count": 53,
   "metadata": {},
   "outputs": [
    {
     "name": "stdout",
     "output_type": "stream",
     "text": [
      "A y u s h \n",
      "\n",
      "True\n",
      "True\n",
      "False\n"
     ]
    }
   ],
   "source": [
    "string=\"Ayush\"\n",
    "for c in string:\n",
    "    print(c,end=\" \")\n",
    "print(\"\\n\")\n",
    "print(\"y\" in string)\n",
    "print(\"yus\" in string)\n",
    "print(\"yusha\" in string)\n"
   ]
  },
  {
   "cell_type": "markdown",
   "metadata": {},
   "source": [
    "# Indexing and Slicing"
   ]
  },
  {
   "cell_type": "code",
   "execution_count": 38,
   "metadata": {},
   "outputs": [
    {
     "name": "stdout",
     "output_type": "stream",
     "text": [
      "s a\n",
      "pa pam spa spa spam\n"
     ]
    }
   ],
   "source": [
    "s=\"spam\"\n",
    "print(s[0],s[-2])\n",
    "print(s[1:3],s[1:],s[:-1],s[:3],s[:])"
   ]
  },
  {
   "cell_type": "markdown",
   "metadata": {},
   "source": [
    "##### Note\n",
    "- The first item is at offset 0. S[0] fetches the first item.\n",
    "- Negative indexes mean to count backward from the end to right. S[-2] fetches the second item from the end (or right).\n",
    "- S[i:j] fetches item from position i upto but not including position j.\n",
    "- S[i:] fetches item from position i upto the last element of the string.\n",
    "- S[:j] fetches item from the 0th position upto but not including position j.\n",
    "- S[:-1] fetches item from 0th position upto but not including the last item.\n",
    "- S[:] fetches all the items of the string"
   ]
  },
  {
   "cell_type": "markdown",
   "metadata": {},
   "source": [
    "We can also slice using the syntax given below"
   ]
  },
  {
   "cell_type": "code",
   "execution_count": 39,
   "metadata": {},
   "outputs": [
    {
     "name": "stdout",
     "output_type": "stream",
     "text": [
      "pa pam spa spa spam\n"
     ]
    }
   ],
   "source": [
    "print(s[slice(1,3)],s[slice(1,None)],s[slice(None,-1)],s[slice(None,3)],s[slice(None,None)])"
   ]
  },
  {
   "cell_type": "code",
   "execution_count": 27,
   "metadata": {},
   "outputs": [
    {
     "name": "stdout",
     "output_type": "stream",
     "text": [
      "bdfhj acegikmo\n"
     ]
    }
   ],
   "source": [
    "s=\"abcdefghijklmnop\"\n",
    "print(s[1:10:2],s[::2])             #skipping items"
   ]
  },
  {
   "cell_type": "markdown",
   "metadata": {},
   "source": [
    "##### Note\n",
    "- S[i:j:k] means extraction of all items in S from the position i through j-1, by skipping k values everytime. By default the value of k is set to 1 "
   ]
  },
  {
   "cell_type": "code",
   "execution_count": 30,
   "metadata": {},
   "outputs": [
    {
     "name": "stdout",
     "output_type": "stream",
     "text": [
      "hsuya\n",
      "kjihgfedc kigec\n"
     ]
    }
   ],
   "source": [
    "s=\"ayush\"\n",
    "print(s[::-1])                      #reversing items\n",
    "\n",
    "s=\"abcdefghijklmnop\"\n",
    "print(s[10:1:-1],s[10:1:-2])"
   ]
  },
  {
   "cell_type": "markdown",
   "metadata": {},
   "source": [
    "##### Note\n",
    "- S[::-1] is used to reverse the string. The first bound default to 0 and the second bound is default to the length of the string.\n",
    "- S[i:j:-k] is used to fetch string from j+1 to i in reverse order,by skipping k values everytime."
   ]
  },
  {
   "cell_type": "code",
   "execution_count": null,
   "metadata": {},
   "outputs": [],
   "source": []
  }
 ],
 "metadata": {
  "kernelspec": {
   "display_name": "Python 3",
   "language": "python",
   "name": "python3"
  },
  "language_info": {
   "codemirror_mode": {
    "name": "ipython",
    "version": 3
   },
   "file_extension": ".py",
   "mimetype": "text/x-python",
   "name": "python",
   "nbconvert_exporter": "python",
   "pygments_lexer": "ipython3",
   "version": "3.7.4"
  }
 },
 "nbformat": 4,
 "nbformat_minor": 2
}

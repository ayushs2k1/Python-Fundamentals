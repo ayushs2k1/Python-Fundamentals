{
 "cells": [
  {
   "cell_type": "markdown",
   "metadata": {},
   "source": [
    "# while Loops"
   ]
  },
  {
   "cell_type": "markdown",
   "metadata": {},
   "source": [
    "In its most complex form, the while statement consists of a header line with a test expression, a body of one or more normally indented statements, and an optional else part that is executed if control exits the loop without a break statement being encountered. Python keeps evaluating the test at the top and executing the statements nested in the loop body until the test returns a false value:\n",
    "\n",
    "```\n",
    "\n",
    "while test:\n",
    "   statements\n",
    "else:\n",
    "   statements\n",
    "\n",
    "```   \n",
    "   \n",
    "Here are two simple examples of while loops"
   ]
  },
  {
   "cell_type": "code",
   "execution_count": 1,
   "metadata": {},
   "outputs": [
    {
     "name": "stdout",
     "output_type": "stream",
     "text": [
      "dogs ogs gs s "
     ]
    }
   ],
   "source": [
    "x='dogs'\n",
    "while x:\n",
    "    print(x,end=\" \")\n",
    "    x=x[1:]                         # Strips first character off x"
   ]
  },
  {
   "cell_type": "code",
   "execution_count": 10,
   "metadata": {},
   "outputs": [
    {
     "name": "stdout",
     "output_type": "stream",
     "text": [
      "0 1 2 3 4 5 6 "
     ]
    }
   ],
   "source": [
    "a,b=0,10\n",
    "while(a<b and a<b-3):\n",
    "    print(a,end=\" \")\n",
    "    a+=1"
   ]
  },
  {
   "cell_type": "markdown",
   "metadata": {},
   "source": [
    "**break** : Jumps out of the closest enclosing loop (past the entire loop statement)\n",
    "\n",
    "**continue** : Jumps to the top of the closest enclosing loop (to the loop’s header line)\n",
    "\n",
    "**pass** : Does nothing at all: it’s an empty statement placeholder\n",
    "\n",
    "**Loop else block** : Runs if and only if the loop is exited normally (i.e., without hitting a break )\n",
    "\n"
   ]
  },
  {
   "cell_type": "markdown",
   "metadata": {},
   "source": [
    "**General Loop Format** :\n",
    "\n",
    "```\n",
    "while test:\n",
    "   statements\n",
    "   if test: break\n",
    "   if test: continue\n",
    "else:\n",
    "   statements\n",
    "```\n",
    "\n",
    "Some examples of the above statements are: "
   ]
  },
  {
   "cell_type": "code",
   "execution_count": 3,
   "metadata": {},
   "outputs": [
    {
     "name": "stdout",
     "output_type": "stream",
     "text": [
      "Enter name:Ayush\n",
      "Enter age:20\n",
      "Hello Ayush => 20\n",
      "Enter name:Sally\n",
      "Enter age:24\n",
      "Hello Sally => 24\n",
      "Enter name:stop\n",
      "Thanks for your time :)\n"
     ]
    }
   ],
   "source": [
    "#break\n",
    "while True:\n",
    "    name=input(\"Enter name:\")\n",
    "    if name == 'stop':\n",
    "        print(\"Thanks for your time :)\")\n",
    "        break\n",
    "    else:\n",
    "        age=input(\"Enter age:\")\n",
    "        print('Hello',name,'=>',age)"
   ]
  },
  {
   "cell_type": "code",
   "execution_count": 4,
   "metadata": {},
   "outputs": [
    {
     "name": "stdout",
     "output_type": "stream",
     "text": [
      "8 6 4 2 0 "
     ]
    }
   ],
   "source": [
    "#Continue\n",
    "x=10\n",
    "while x:\n",
    "    x=x-1\n",
    "    if(x%2!=0):\n",
    "        continue                 # If x is an odd number,skip. \n",
    "    print(x,end=\" \")"
   ]
  },
  {
   "cell_type": "code",
   "execution_count": 8,
   "metadata": {},
   "outputs": [
    {
     "name": "stdout",
     "output_type": "stream",
     "text": [
      "12\n",
      "12 has factor 6\n"
     ]
    }
   ],
   "source": [
    "#Loop else\n",
    "y=int(input())\n",
    "x = y // 2\n",
    "while x > 1:\n",
    "   if y% x == 0:\n",
    "       print(y, 'has factor', x)\n",
    "       break\n",
    "   x -= 1\n",
    "else:\n",
    "   print(y, 'is prime')"
   ]
  },
  {
   "cell_type": "markdown",
   "metadata": {},
   "source": [
    "# for Loops"
   ]
  },
  {
   "cell_type": "code",
   "execution_count": null,
   "metadata": {},
   "outputs": [],
   "source": []
  }
 ],
 "metadata": {
  "kernelspec": {
   "display_name": "Python 3",
   "language": "python",
   "name": "python3"
  },
  "language_info": {
   "codemirror_mode": {
    "name": "ipython",
    "version": 3
   },
   "file_extension": ".py",
   "mimetype": "text/x-python",
   "name": "python",
   "nbconvert_exporter": "python",
   "pygments_lexer": "ipython3",
   "version": "3.7.4"
  }
 },
 "nbformat": 4,
 "nbformat_minor": 2
}

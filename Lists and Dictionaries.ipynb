{
 "cells": [
  {
   "cell_type": "markdown",
   "metadata": {},
   "source": [
    "# Lists"
   ]
  },
  {
   "cell_type": "markdown",
   "metadata": {},
   "source": [
    "### Basic Operations"
   ]
  },
  {
   "cell_type": "code",
   "execution_count": 94,
   "metadata": {},
   "outputs": [
    {
     "name": "stdout",
     "output_type": "stream",
     "text": [
      "3\n",
      "\n",
      "\n",
      "[1, 2, 3, 1, 2, 3, 1, 2, 3, 1, 2, 3]\n",
      "\n",
      "\n",
      "[1, 2, 3, 4, 5, 6]\n",
      "[1, 2]34\n",
      "[1, 2, '3', '4']\n",
      "\n",
      "\n",
      "['cats', 'hens', 'camels']\n",
      "['cats']\n"
     ]
    }
   ],
   "source": [
    "l=[1,2,3]\n",
    "print(len(l))                      #length\n",
    "print(\"\\n\")\n",
    "\n",
    "print(l*4)                         #repetition\n",
    "print(\"\\n\")\n",
    "\n",
    "print(l+[4,5,6])                   #concatenation\n",
    "print(str([1,2])+'34')             # Same as '[1,2]'+'34'\n",
    "print([1,2]+list(\"34\"))            # Same as [1,2]+[\"3\",\"4\"]\n",
    "print(\"\\n\")\n",
    "\n",
    "l=['dogs','cats','hens','camels']\n",
    "del l[0]                           #Deletion of one item\n",
    "print(l)\n",
    "del l[1:]                          #Deletion of an entire section\n",
    "print(l)"
   ]
  },
  {
   "cell_type": "markdown",
   "metadata": {},
   "source": [
    "### List Iterations and Comprehensions"
   ]
  },
  {
   "cell_type": "code",
   "execution_count": 60,
   "metadata": {},
   "outputs": [
    {
     "name": "stdout",
     "output_type": "stream",
     "text": [
      "True\n",
      "False\n",
      "\n",
      "\n",
      "1 2 3 4 5 \n",
      "\n",
      "['AAAAA', 'YYYYY', 'UUUUU', 'SSSSS', 'HHHHH']\n",
      "['AAAAA', 'YYYYY', 'UUUUU', 'SSSSS', 'HHHHH']\n",
      "\n",
      "\n",
      "[('a', 1), ('b', 2), ('c', 3)]\n"
     ]
    }
   ],
   "source": [
    "# To check the membership of an element in the list.\n",
    "print(3 in [1,2,3])\n",
    "print(4 in [1,2,3])\n",
    "print(\"\\n\")\n",
    "\n",
    "# Iteration\n",
    "for x in [1,2,3,4,5]:\n",
    "    print(x,end=' ')\n",
    "print(\"\\n\")\n",
    "\n",
    "# List Comprehension \n",
    "res=[c*5 for c in \"AYUSH\"]\n",
    "print(res)\n",
    "\n",
    "#or\n",
    "\n",
    "res=[]\n",
    "for c in \"AYUSH\":\n",
    "    res.append(c*5)\n",
    "print(res)\n",
    "print(\"\\n\")\n",
    "\n",
    "print(list(zip(['a','b','c'],[1,2,3])))        #Zips together keys and values and make a list"
   ]
  },
  {
   "cell_type": "markdown",
   "metadata": {},
   "source": [
    "#### All about map() Function"
   ]
  },
  {
   "cell_type": "markdown",
   "metadata": {},
   "source": [
    "The map() function returns a map object(which is iterable) of the results after applying the given function to each item of a given iterable(list,tuples,etc).\n",
    "\n",
    "The syntax is map(function,iterable)"
   ]
  },
  {
   "cell_type": "code",
   "execution_count": 32,
   "metadata": {},
   "outputs": [
    {
     "name": "stdout",
     "output_type": "stream",
     "text": [
      "[1, 2, 0, 1, 2]\n",
      "\n",
      "\n",
      "[2, 4, 6, 8]\n",
      "\n",
      "\n",
      "[2, 4, 6, 8]\n",
      "\n",
      "\n",
      "[6, 8, 10, 12]\n",
      "\n",
      "\n",
      "[['d', 'o', 'g', 's'], ['c', 'a', 't', 's'], ['h', 'e', 'n', 's']]\n"
     ]
    }
   ],
   "source": [
    "print(list(map(abs,[-1,-2,0,1,2])))\n",
    "print(\"\\n\")\n",
    "\n",
    "def addition(n):\n",
    "    return n+n\n",
    "num=[1,2,3,4]\n",
    "res=list(map(addition,num))\n",
    "print(res)\n",
    "print(\"\\n\")\n",
    "\n",
    "#or\n",
    "\n",
    "num=[1,2,3,4]\n",
    "res=list(map(lambda x:x+x,num))\n",
    "print(res)\n",
    "print(\"\\n\")\n",
    "\n",
    "num1=[1,2,3,4]\n",
    "num2=[5,6,7,8]\n",
    "res=list(map(lambda x,y:x+y, num1,num2))\n",
    "print(res)\n",
    "print(\"\\n\")\n",
    "\n",
    "#Listifying the list of strings individually.\n",
    "l=['dogs','cats','hens']\n",
    "res=list(map(list,l))\n",
    "print(res)"
   ]
  },
  {
   "cell_type": "markdown",
   "metadata": {},
   "source": [
    "**lambda()** - It is used to define an anonymous function in Python. This function can have any number of arguments but only one expression, which is evaluated and returned."
   ]
  },
  {
   "cell_type": "markdown",
   "metadata": {},
   "source": [
    "### Indexing,Slicing and Matrices"
   ]
  },
  {
   "cell_type": "code",
   "execution_count": 50,
   "metadata": {},
   "outputs": [
    {
     "name": "stdout",
     "output_type": "stream",
     "text": [
      "hens cats\n",
      "['cats', 'hens']\n",
      "\n",
      "\n",
      "['dogs', 'horse', 'hens']\n",
      "['camel', 'owl', 'hens']\n",
      "['camel', 'donkey', 'crow', 'hens']\n",
      "['camel', 'zebra', 'crocodile', 'donkey', 'crow', 'hens']\n",
      "['camel', 'donkey', 'crow', 'hens']\n",
      "\n",
      "\n",
      "[2, 3, 4, 1]\n",
      "[2, 3, 4, 1, 5, 6, 7]\n",
      "\n",
      "\n",
      "[4, 5, 6]\n",
      "5 7\n"
     ]
    }
   ],
   "source": [
    "#Indexing and Slicing\n",
    "l=['dogs','cats','hens']\n",
    "print(l[2],l[-2])\n",
    "print(l[1:])\n",
    "print(\"\\n\")\n",
    "\n",
    "#Index and slice assignments\n",
    "l[1]='horse'                            #Index assignment\n",
    "print(l)\n",
    "l[0:2]=['camel','owl']                  #Slice assignment(delete+insert)\n",
    "print(l)\n",
    "l[1:2]=['donkey','crow']                #Replacement/insertion                             \n",
    "print(l)\n",
    "l[1:1]=['zebra','crocodile']            #Insertion(replace nothing)\n",
    "print(l)\n",
    "l[1:3]=[]                               #Deletion(insert nothing)\n",
    "print(l)\n",
    "print(\"\\n\")\n",
    "\n",
    "l=[1]\n",
    "l[:0]=[2,3,4]                           #Insert all at first\n",
    "print(l)\n",
    "l[len(l):]=[5,6,7]                      #Insert all at end\n",
    "print(l)\n",
    "print(\"\\n\")\n",
    "\n",
    "#Matrices\n",
    "matrix=[[1,2,3],[4,5,6],[7,8,9]]\n",
    "print(matrix[1])\n",
    "print(matrix[1][1],matrix[2][0])"
   ]
  },
  {
   "cell_type": "markdown",
   "metadata": {},
   "source": [
    "### List Method Calls"
   ]
  },
  {
   "cell_type": "code",
   "execution_count": 1,
   "metadata": {},
   "outputs": [
    {
     "name": "stdout",
     "output_type": "stream",
     "text": [
      "['dogs', 'hens', 'cats', 'horse']\n",
      "['cats', 'dogs', 'hens', 'horse']\n",
      "['Dogs', 'cats', 'dogs', 'hens', 'horse']\n",
      "\n",
      "\n",
      "['ABD', 'aBe', 'abc']\n",
      "['abc', 'ABD', 'aBe']\n",
      "['aBe', 'ABD', 'abc']\n",
      "\n",
      "\n",
      "['aBe', 'ABD', 'abc']\n",
      "['abe', 'abd', 'abc']\n",
      "\n",
      "\n",
      "[1, 2, 3, 4, 5]\n",
      "5\n",
      "[1, 2, 3, 4]\n",
      "[4, 3, 2, 1]\n",
      "\n",
      "\n",
      "1\n",
      "['dogs', 'dogs', 'cats', 'hens']\n",
      "['dogs', 'dogs', 'hens']\n",
      "2\n",
      "\n",
      "\n"
     ]
    }
   ],
   "source": [
    "#append and sort method calls\n",
    "l=['dogs','hens','cats']\n",
    "l.append('horse')                      #append adds the element at the end of the list\n",
    "print(l)\n",
    "l.sort()\n",
    "'''Sorts the list alphabetically,i.e, c>d>h=h. Now since the third \n",
    "and fourth element have the same starting letter 'h', it will compare\n",
    "the next letter. We see that e>o, therefore, hens comes before horse'''\n",
    "print(l)\n",
    "\n",
    "l.append('Dogs')\n",
    "l.sort()\n",
    "'''D>c>d hence 'Dogs' will be placed first followed by cats and \n",
    "then dogs'''\n",
    "print(l)\n",
    "print(\"\\n\")\n",
    "\n",
    "l=['abc','ABD','aBe']\n",
    "l.sort()                               #Sort with mixed case\n",
    "print(l)\n",
    "l.sort(key=str.lower)                  #Normalize to lowercase\n",
    "print(l)\n",
    "l.sort(key=str.lower,reverse=True)     #Change sort order\n",
    "print(l)\n",
    "print(\"\\n\")\n",
    "\n",
    "l=['abc','ABD','aBe']\n",
    "print(sorted(l,key=str.lower,reverse=True))\n",
    "\n",
    "l=['abc','ABD','aBe']\n",
    "print(sorted([x.lower() for x in l],reverse=True))\n",
    "'''Notice the last example here—we can convert to lowercase prior \n",
    "to the sort with a list comprehension, but the result does not \n",
    "contain the original list’s values as it does with the key argument.\n",
    "The latter is applied temporarily during the sort, instead of \n",
    "changing the values to be sorted altogether'''\n",
    "print(\"\\n\")\n",
    "\n",
    "#extend,pop,reverse,index,remove and count method calls\n",
    "l=[1,2]\n",
    "l.extend([3,4,5])\n",
    "print(l)\n",
    "\n",
    "print(l.pop())\n",
    "print(l)\n",
    "\n",
    "l.reverse()\n",
    "print(l)\n",
    "print(\"\\n\")\n",
    "\n",
    "l=['dogs','cats','hens']\n",
    "print(l.index('cats'))                    #Returns the index of a particular object in the list\n",
    "\n",
    "l.insert(1,'dogs')                        #Insert at position(without deletion)\n",
    "print(l)\n",
    "\n",
    "l.remove('cats')                          #Delete by value\n",
    "print(l)\n",
    "\n",
    "print(l.count('dogs'))                    #Number of occurrences of a particular element\n",
    "print(\"\\n\")"
   ]
  },
  {
   "cell_type": "markdown",
   "metadata": {},
   "source": [
    "# Dictionaries"
   ]
  },
  {
   "cell_type": "markdown",
   "metadata": {},
   "source": [
    "### Basic Operations"
   ]
  },
  {
   "cell_type": "code",
   "execution_count": 74,
   "metadata": {},
   "outputs": [
    {
     "name": "stdout",
     "output_type": "stream",
     "text": [
      "2\n",
      "{'dogs': 2, 'cats': 1, 'hens': 3}\n",
      "3\n",
      "\n",
      "\n",
      "True\n",
      "False\n",
      "\n",
      "\n",
      "{'dogs': 2, 'cats': 1, 'hens': ['grill', 'roast', 'fry']}\n",
      "roast\n",
      "\n",
      "\n",
      "{'dogs': 2, 'hens': ['grill', 'roast', 'fry']}\n",
      "\n",
      "\n",
      "{'dogs': 2, 'hens': ['grill', 'roast', 'fry'], 'pigs': 'pork'}\n",
      "\n",
      "\n",
      "12345\n"
     ]
    }
   ],
   "source": [
    "D={'dogs':2,'cats':1,'hens':3}               #Dictionary\n",
    "print(D['dogs'])                             #Fetch a value by key\n",
    "print(D)\n",
    "print(len(D))\n",
    "print(\"\\n\")\n",
    "\n",
    "# Key Membership\n",
    "print('cats' in D)                \n",
    "print('camels' in D)\n",
    "print(\"\\n\")\n",
    "\n",
    "D['hens']=['grill','roast','fry']            # Value in the form of list\n",
    "print(D)\n",
    "print(D['hens'][1])\n",
    "print(\"\\n\")\n",
    "\n",
    "del D['cats']                                # Delete entry\n",
    "print(D)\n",
    "print(\"\\n\")\n",
    "\n",
    "D['pigs']='pork'                             # Add new entry \n",
    "print(D)\n",
    "print(\"\\n\")\n",
    "\n",
    "# Value in the form of dictionary (nested dictionary)\n",
    "D['cows']={'color':'black','meat':'beef','price':12345}   \n",
    "print(D['cows']['price'])"
   ]
  },
  {
   "cell_type": "markdown",
   "metadata": {},
   "source": [
    "### Dictionary Methods"
   ]
  },
  {
   "cell_type": "code",
   "execution_count": 45,
   "metadata": {},
   "outputs": [
    {
     "name": "stdout",
     "output_type": "stream",
     "text": [
      "['dogs', 'hens', 'pigs']\n",
      "[2, ['grill', 'roast', 'fry'], 'pork']\n",
      "[('dogs', 2), ('hens', ['grill', 'roast', 'fry']), ('pigs', 'pork')]\n",
      "\n",
      "\n",
      "pork\n",
      "None\n",
      "9\n",
      "\n",
      "\n",
      "{'dogs': 2, 'hens': ['grill', 'roast', 'fry'], 'pigs': 'pork', 'crow': 4, 'crocodile': 2}\n",
      "\n",
      "\n",
      "{'dogs': 2, 'pigs': 'pork', 'crow': 4, 'crocodile': 2}\n",
      "\n",
      "\n"
     ]
    }
   ],
   "source": [
    "print(list(D.keys()))               # Returns the key values in the form of list\n",
    "print(list(D.values()))             # Returns the values in the form of list\n",
    "print(list(D.items()))              # Returns the items(key+values) in the form of list\n",
    "print(\"\\n\")\n",
    "\n",
    "print(D.get('pigs'))                # get() returns the value corresponding to the specified key\n",
    "print(D.get('camels'))              # Returns None if no such key exists in the dictionary\n",
    "print(D.get('monkey',9))\n",
    "print(\"\\n\")\n",
    "\n",
    "D1={'crow':4,'crocodile':2}\n",
    "D.update(D1)                        # update() merges the keys and values of the dictionary into another\n",
    "print(D)\n",
    "print(\"\\n\")\n",
    "\n",
    "D.pop('hens')                       # pop() deletes a key from the dictionary\n",
    "print(D)\n",
    "print(\"\\n\")"
   ]
  },
  {
   "cell_type": "code",
   "execution_count": 48,
   "metadata": {},
   "outputs": [
    {
     "name": "stdout",
     "output_type": "stream",
     "text": [
      "The Meaning of Life\n",
      "1975\tHoly Grail\n",
      "1979\tLife of Brian\n",
      "1983\tThe Meaning of Life\n"
     ]
    }
   ],
   "source": [
    "table = {'1975': 'Holy Grail','1979': 'Life of Brian',\n",
    "         '1983': 'The Meaning of Life'}\n",
    "year = '1983'\n",
    "movie = table[year]\n",
    "print(movie)\n",
    "\n",
    "for year in table:\n",
    "    print(year + '\\t' + table[year])"
   ]
  },
  {
   "cell_type": "code",
   "execution_count": 52,
   "metadata": {},
   "outputs": [
    {
     "data": {
      "text/plain": [
       "['Holy Grail']"
      ]
     },
     "execution_count": 52,
     "metadata": {},
     "output_type": "execute_result"
    }
   ],
   "source": [
    "table = {'Holy Grail':'1975','Life of Brian':'1979',\n",
    "         'The Meaning of Life': '1983'}\n",
    "[title for (title, year) in table.items() if year == '1975']"
   ]
  },
  {
   "cell_type": "markdown",
   "metadata": {},
   "source": [
    "### Dictionary Comprehensions"
   ]
  },
  {
   "cell_type": "code",
   "execution_count": 66,
   "metadata": {},
   "outputs": [
    {
     "name": "stdout",
     "output_type": "stream",
     "text": [
      "{'a': 1, 'b': 2, 'c': 3}\n",
      "{'a': 1, 'b': 2, 'c': 3}\n",
      "\n",
      "\n",
      "{1: 1, 2: 4, 3: 9, 4: 16}\n",
      "{'S': 'SSSS', 'P': 'PPPP', 'A': 'AAAA', 'M': 'MMMM'}\n",
      "{'dogs': 'DOGS!', 'cats': 'CATS!', 'hens': 'HENS!'}\n"
     ]
    }
   ],
   "source": [
    "print(dict(zip(['a','b','c'],[1,2,3])))              # Zips together keys and values and make a dict\n",
    "print({k:v for (k,v) in zip(['a','b','c'],[1,2,3])})\n",
    "print(\"\\n\")\n",
    "\n",
    "print({x:x**2 for x in [1,2,3,4]})\n",
    "print({c:c*4 for c in 'SPAM'})\n",
    "print({c.lower(): c + '!' for c in ['DOGS','CATS','HENS']})"
   ]
  },
  {
   "cell_type": "code",
   "execution_count": 73,
   "metadata": {},
   "outputs": [
    {
     "name": "stdout",
     "output_type": "stream",
     "text": [
      "{'a': 0, 'b': 0, 'c': 0}\n",
      "{'a': 0, 'b': 0, 'c': 0}\n",
      "\n",
      "\n",
      "{'d': None, 'o': None, 'g': None, 's': None}\n",
      "{'d': None, 'o': None, 'g': None, 's': None}\n"
     ]
    }
   ],
   "source": [
    "D1=dict.fromkeys(['a','b','c'],0)            # Initialize dictionary from keys\n",
    "print(D1)\n",
    "\n",
    "D2={k:0 for k in ['a','b','c']}              # Same, but with a comprehension\n",
    "print(D2)\n",
    "print(\"\\n\")\n",
    "\n",
    "D3=dict.fromkeys('dogs')                     # Sets default value as None\n",
    "print(D3)\n",
    "\n",
    "D4={k:None for k in ['dogs']}\n",
    "print(D3)"
   ]
  },
  {
   "cell_type": "markdown",
   "metadata": {},
   "source": [
    "# Dictionaries Verses Lists"
   ]
  },
  {
   "cell_type": "code",
   "execution_count": 78,
   "metadata": {},
   "outputs": [
    {
     "ename": "IndexError",
     "evalue": "list assignment index out of range",
     "output_type": "error",
     "traceback": [
      "\u001b[0;31m---------------------------------------------------------------------------\u001b[0m",
      "\u001b[0;31mIndexError\u001b[0m                                Traceback (most recent call last)",
      "\u001b[0;32m<ipython-input-78-1da4cce9d340>\u001b[0m in \u001b[0;36m<module>\u001b[0;34m\u001b[0m\n\u001b[1;32m      1\u001b[0m \u001b[0ml\u001b[0m\u001b[0;34m=\u001b[0m\u001b[0;34m[\u001b[0m\u001b[0;34m]\u001b[0m\u001b[0;34m\u001b[0m\u001b[0;34m\u001b[0m\u001b[0m\n\u001b[0;32m----> 2\u001b[0;31m \u001b[0ml\u001b[0m\u001b[0;34m[\u001b[0m\u001b[0;36m99\u001b[0m\u001b[0;34m]\u001b[0m\u001b[0;34m=\u001b[0m\u001b[0;34m'dogs'\u001b[0m\u001b[0;34m\u001b[0m\u001b[0;34m\u001b[0m\u001b[0m\n\u001b[0m\u001b[1;32m      3\u001b[0m \u001b[0mprint\u001b[0m\u001b[0;34m(\u001b[0m\u001b[0ml\u001b[0m\u001b[0;34m)\u001b[0m\u001b[0;34m\u001b[0m\u001b[0;34m\u001b[0m\u001b[0m\n",
      "\u001b[0;31mIndexError\u001b[0m: list assignment index out of range"
     ]
    }
   ],
   "source": [
    "l=[]\n",
    "l[99]='dogs'\n",
    "print(l)"
   ]
  },
  {
   "cell_type": "code",
   "execution_count": 79,
   "metadata": {
    "scrolled": true
   },
   "outputs": [
    {
     "name": "stdout",
     "output_type": "stream",
     "text": [
      "{99: 'dogs'}\n"
     ]
    }
   ],
   "source": [
    "d={}\n",
    "d[99]='dogs'\n",
    "print(d)"
   ]
  },
  {
   "cell_type": "code",
   "execution_count": 83,
   "metadata": {},
   "outputs": [
    {
     "name": "stdout",
     "output_type": "stream",
     "text": [
      "88\n",
      "{(2, 3, 4): 88, (7, 8, 9): 99}\n"
     ]
    }
   ],
   "source": [
    "# Using Dictionaries for sparse data structures: Tuple keys\n",
    "Matrix = {}\n",
    "Matrix[(2, 3, 4)] = 88\n",
    "Matrix[(7, 8, 9)] = 99\n",
    "X = 2; Y = 3; Z = 4\n",
    "print(Matrix[(X, Y, Z)])\n",
    "print(Matrix)"
   ]
  },
  {
   "cell_type": "markdown",
   "metadata": {},
   "source": [
    "Here, we’ve used a dictionary to represent a three-dimensional array that is empty except for the two positions (2,3,4) and (7,8,9) . The keys are tuples that record the coordinates of nonempty slots. Rather than allocating a large and mostly empty three-dimensional matrix to hold these values, we can use a simple two-item dictionary. In this scheme, accessing an empty slot triggers a nonexistent key exception, as these slots are not physically stored:"
   ]
  },
  {
   "cell_type": "code",
   "execution_count": 84,
   "metadata": {},
   "outputs": [
    {
     "ename": "KeyError",
     "evalue": "(2, 3, 6)",
     "output_type": "error",
     "traceback": [
      "\u001b[0;31m---------------------------------------------------------------------------\u001b[0m",
      "\u001b[0;31mKeyError\u001b[0m                                  Traceback (most recent call last)",
      "\u001b[0;32m<ipython-input-84-408870fefea3>\u001b[0m in \u001b[0;36m<module>\u001b[0;34m\u001b[0m\n\u001b[0;32m----> 1\u001b[0;31m \u001b[0mprint\u001b[0m\u001b[0;34m(\u001b[0m\u001b[0mMatrix\u001b[0m\u001b[0;34m[\u001b[0m\u001b[0;34m(\u001b[0m\u001b[0;36m2\u001b[0m\u001b[0;34m,\u001b[0m\u001b[0;36m3\u001b[0m\u001b[0;34m,\u001b[0m\u001b[0;36m6\u001b[0m\u001b[0;34m)\u001b[0m\u001b[0;34m]\u001b[0m\u001b[0;34m)\u001b[0m\u001b[0;34m\u001b[0m\u001b[0;34m\u001b[0m\u001b[0m\n\u001b[0m",
      "\u001b[0;31mKeyError\u001b[0m: (2, 3, 6)"
     ]
    }
   ],
   "source": [
    "print(Matrix[(2,3,6)])"
   ]
  },
  {
   "cell_type": "markdown",
   "metadata": {},
   "source": [
    "Although both are flexible collections of other objects, lists assign items to positions, and dictionaries assign them to more mnemonic keys. Because of this, dictionary data often carries more meaning to human readers. \n",
    "\n",
    "In practice, dictionaries tend to be best for data with labeled components, as well as\n",
    "structures that can benefit from quick, direct lookups by name, instead of slower linear\n",
    "searches. As we’ve seen, they also may be better for sparse collections and collections\n",
    "that grow at arbitrary positions."
   ]
  }
 ],
 "metadata": {
  "kernelspec": {
   "display_name": "Python 3",
   "language": "python",
   "name": "python3"
  },
  "language_info": {
   "codemirror_mode": {
    "name": "ipython",
    "version": 3
   },
   "file_extension": ".py",
   "mimetype": "text/x-python",
   "name": "python",
   "nbconvert_exporter": "python",
   "pygments_lexer": "ipython3",
   "version": "3.7.4"
  }
 },
 "nbformat": 4,
 "nbformat_minor": 2
}

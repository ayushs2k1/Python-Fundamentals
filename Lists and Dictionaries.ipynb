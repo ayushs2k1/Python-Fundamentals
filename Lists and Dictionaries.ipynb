{
 "cells": [
  {
   "cell_type": "markdown",
   "metadata": {},
   "source": [
    "# Lists"
   ]
  },
  {
   "cell_type": "markdown",
   "metadata": {},
   "source": [
    "### Basic Operations"
   ]
  },
  {
   "cell_type": "code",
   "execution_count": 94,
   "metadata": {},
   "outputs": [
    {
     "name": "stdout",
     "output_type": "stream",
     "text": [
      "3\n",
      "\n",
      "\n",
      "[1, 2, 3, 1, 2, 3, 1, 2, 3, 1, 2, 3]\n",
      "\n",
      "\n",
      "[1, 2, 3, 4, 5, 6]\n",
      "[1, 2]34\n",
      "[1, 2, '3', '4']\n",
      "\n",
      "\n",
      "['cats', 'hens', 'camels']\n",
      "['cats']\n"
     ]
    }
   ],
   "source": [
    "l=[1,2,3]\n",
    "print(len(l))                      #length\n",
    "print(\"\\n\")\n",
    "\n",
    "print(l*4)                         #repetition\n",
    "print(\"\\n\")\n",
    "\n",
    "print(l+[4,5,6])                   #concatenation\n",
    "print(str([1,2])+'34')             # Same as '[1,2]'+'34'\n",
    "print([1,2]+list(\"34\"))            # Same as [1,2]+[\"3\",\"4\"]\n",
    "print(\"\\n\")\n",
    "\n",
    "l=['dogs','cats','hens','camels']\n",
    "del l[0]                           #Deletion of one item\n",
    "print(l)\n",
    "del l[1:]                          #Deletion of an entire section\n",
    "print(l)"
   ]
  },
  {
   "cell_type": "markdown",
   "metadata": {},
   "source": [
    "### List Iterations and Comprehensions"
   ]
  },
  {
   "cell_type": "code",
   "execution_count": 19,
   "metadata": {},
   "outputs": [
    {
     "name": "stdout",
     "output_type": "stream",
     "text": [
      "True\n",
      "False\n",
      "\n",
      "\n",
      "1 2 3 4 5 \n",
      "\n",
      "['AAAAA', 'YYYYY', 'UUUUU', 'SSSSS', 'HHHHH']\n",
      "['AAAAA', 'YYYYY', 'UUUUU', 'SSSSS', 'HHHHH']\n"
     ]
    }
   ],
   "source": [
    "# To check the membership of an element in the list.\n",
    "print(3 in [1,2,3])\n",
    "print(4 in [1,2,3])\n",
    "print(\"\\n\")\n",
    "\n",
    "# Iteration\n",
    "for x in [1,2,3,4,5]:\n",
    "    print(x,end=' ')\n",
    "print(\"\\n\")\n",
    "\n",
    "# List Comprehension \n",
    "res=[c*5 for c in \"AYUSH\"]\n",
    "print(res)\n",
    "\n",
    "#or\n",
    "\n",
    "res=[]\n",
    "for c in \"AYUSH\":\n",
    "    res.append(c*5)\n",
    "print(res)"
   ]
  },
  {
   "cell_type": "markdown",
   "metadata": {},
   "source": [
    "#### All about map() Function"
   ]
  },
  {
   "cell_type": "markdown",
   "metadata": {},
   "source": [
    "The map() function returns a map object(which is iterable) of the results after applying the given function to each item of a given iterable(list,tuples,etc).\n",
    "\n",
    "The syntax is map(function,iterable)"
   ]
  },
  {
   "cell_type": "code",
   "execution_count": 32,
   "metadata": {},
   "outputs": [
    {
     "name": "stdout",
     "output_type": "stream",
     "text": [
      "[1, 2, 0, 1, 2]\n",
      "\n",
      "\n",
      "[2, 4, 6, 8]\n",
      "\n",
      "\n",
      "[2, 4, 6, 8]\n",
      "\n",
      "\n",
      "[6, 8, 10, 12]\n",
      "\n",
      "\n",
      "[['d', 'o', 'g', 's'], ['c', 'a', 't', 's'], ['h', 'e', 'n', 's']]\n"
     ]
    }
   ],
   "source": [
    "print(list(map(abs,[-1,-2,0,1,2])))\n",
    "print(\"\\n\")\n",
    "\n",
    "def addition(n):\n",
    "    return n+n\n",
    "num=[1,2,3,4]\n",
    "res=list(map(addition,num))\n",
    "print(res)\n",
    "print(\"\\n\")\n",
    "\n",
    "#or\n",
    "\n",
    "num=[1,2,3,4]\n",
    "res=list(map(lambda x:x+x,num))\n",
    "print(res)\n",
    "print(\"\\n\")\n",
    "\n",
    "num1=[1,2,3,4]\n",
    "num2=[5,6,7,8]\n",
    "res=list(map(lambda x,y:x+y, num1,num2))\n",
    "print(res)\n",
    "print(\"\\n\")\n",
    "\n",
    "#Listifying the list of strings individually.\n",
    "l=['dogs','cats','hens']\n",
    "res=list(map(list,l))\n",
    "print(res)"
   ]
  },
  {
   "cell_type": "markdown",
   "metadata": {},
   "source": [
    "**lambda()** - It is used to define an anonymous function in Python. This function can have any number of arguments but only one expression, which is evaluated and returned."
   ]
  },
  {
   "cell_type": "markdown",
   "metadata": {},
   "source": [
    "### Indexing,Slicing and Matrices"
   ]
  },
  {
   "cell_type": "code",
   "execution_count": 50,
   "metadata": {},
   "outputs": [
    {
     "name": "stdout",
     "output_type": "stream",
     "text": [
      "hens cats\n",
      "['cats', 'hens']\n",
      "\n",
      "\n",
      "['dogs', 'horse', 'hens']\n",
      "['camel', 'owl', 'hens']\n",
      "['camel', 'donkey', 'crow', 'hens']\n",
      "['camel', 'zebra', 'crocodile', 'donkey', 'crow', 'hens']\n",
      "['camel', 'donkey', 'crow', 'hens']\n",
      "\n",
      "\n",
      "[2, 3, 4, 1]\n",
      "[2, 3, 4, 1, 5, 6, 7]\n",
      "\n",
      "\n",
      "[4, 5, 6]\n",
      "5 7\n"
     ]
    }
   ],
   "source": [
    "#Indexing and Slicing\n",
    "l=['dogs','cats','hens']\n",
    "print(l[2],l[-2])\n",
    "print(l[1:])\n",
    "print(\"\\n\")\n",
    "\n",
    "#Index and slice assignments\n",
    "l[1]='horse'                            #Index assignment\n",
    "print(l)\n",
    "l[0:2]=['camel','owl']                  #Slice assignment(delete+insert)\n",
    "print(l)\n",
    "l[1:2]=['donkey','crow']                #Replacement/insertion                             \n",
    "print(l)\n",
    "l[1:1]=['zebra','crocodile']            #Insertion(replace nothing)\n",
    "print(l)\n",
    "l[1:3]=[]                               #Deletion(insert nothing)\n",
    "print(l)\n",
    "print(\"\\n\")\n",
    "\n",
    "l=[1]\n",
    "l[:0]=[2,3,4]                           #Insert all at first\n",
    "print(l)\n",
    "l[len(l):]=[5,6,7]                      #Insert all at end\n",
    "print(l)\n",
    "print(\"\\n\")\n",
    "\n",
    "#Matrices\n",
    "matrix=[[1,2,3],[4,5,6],[7,8,9]]\n",
    "print(matrix[1])\n",
    "print(matrix[1][1],matrix[2][0])"
   ]
  },
  {
   "cell_type": "markdown",
   "metadata": {},
   "source": [
    "### List Method Calls"
   ]
  },
  {
   "cell_type": "code",
   "execution_count": 85,
   "metadata": {},
   "outputs": [
    {
     "name": "stdout",
     "output_type": "stream",
     "text": [
      "['dogs', 'hens', 'cats', 'horse']\n",
      "['cats', 'dogs', 'hens', 'horse']\n",
      "['Dogs', 'cats', 'dogs', 'hens', 'horse']\n",
      "\n",
      "\n",
      "['ABD', 'aBe', 'abc']\n",
      "['abc', 'ABD', 'aBe']\n",
      "['aBe', 'ABD', 'abc']\n",
      "\n",
      "\n",
      "['aBe', 'ABD', 'abc']\n",
      "['abe', 'abd', 'abc']\n",
      "\n",
      "\n",
      "[1, 2, 3, 4, 5]\n",
      "5\n",
      "[1, 2, 3, 4]\n",
      "[4, 3, 2, 1]\n",
      "\n",
      "\n",
      "1\n",
      "['dogs', 'dogs', 'cats', 'hens']\n",
      "['dogs', 'dogs', 'hens']\n",
      "2\n"
     ]
    }
   ],
   "source": [
    "#append and sort method calls\n",
    "l=['dogs','hens','cats']\n",
    "l.append('horse')                      #append adds the element at the end of the list\n",
    "print(l)\n",
    "l.sort()\n",
    "'''Sorts the list alphabetically,i.e, c>d>h=h. Now since the third \n",
    "and fourth element have the same starting letter 'h', it will compare\n",
    "the next letter. We see that e>o, therefore, hens comes before horse'''\n",
    "print(l)\n",
    "\n",
    "l.append('Dogs')\n",
    "l.sort()\n",
    "'''D>c>d hence 'Dogs' will be placed first followed by cats and \n",
    "then dogs'''\n",
    "print(l)\n",
    "print(\"\\n\")\n",
    "\n",
    "l=['abc','ABD','aBe']\n",
    "l.sort()                               #Sort with mixed case\n",
    "print(l)\n",
    "l.sort(key=str.lower)                  #Normalize to lowercase\n",
    "print(l)\n",
    "l.sort(key=str.lower,reverse=True)     #Change sort order\n",
    "print(l)\n",
    "print(\"\\n\")\n",
    "\n",
    "l=['abc','ABD','aBe']\n",
    "print(sorted(l,key=str.lower,reverse=True))\n",
    "\n",
    "l=['abc','ABD','aBe']\n",
    "print(sorted([x.lower() for x in l],reverse=True))\n",
    "'''Notice the last example here—we can convert to lowercase prior \n",
    "to the sort with a list comprehension, but the result does not \n",
    "contain the original list’s values as it does with the key argument.\n",
    "The latter is applied temporarily during the sort, instead of \n",
    "changing the values to be sorted altogether'''\n",
    "print(\"\\n\")\n",
    "\n",
    "#extend,pop,reverse,index,remove and count method calls\n",
    "l=[1,2]\n",
    "l.extend([3,4,5])\n",
    "print(l)\n",
    "\n",
    "print(l.pop())\n",
    "print(l)\n",
    "\n",
    "l.reverse()\n",
    "print(l)\n",
    "print(\"\\n\")\n",
    "\n",
    "l=['dogs','cats','hens']\n",
    "print(l.index('cats'))                    #Returns the index of a particular object in the list\n",
    "\n",
    "l.insert(1,'dogs')                        #Insert at position(without deletion)\n",
    "print(l)\n",
    "\n",
    "l.remove('cats')                          #Delete by value\n",
    "print(l)\n",
    "\n",
    "print(l.count('dogs'))                    #Number of occurrences of a particular element"
   ]
  }
 ],
 "metadata": {
  "kernelspec": {
   "display_name": "Python 3",
   "language": "python",
   "name": "python3"
  },
  "language_info": {
   "codemirror_mode": {
    "name": "ipython",
    "version": 3
   },
   "file_extension": ".py",
   "mimetype": "text/x-python",
   "name": "python",
   "nbconvert_exporter": "python",
   "pygments_lexer": "ipython3",
   "version": "3.7.4"
  }
 },
 "nbformat": 4,
 "nbformat_minor": 2
}
